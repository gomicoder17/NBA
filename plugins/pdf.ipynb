{
 "cells": [
  {
   "cell_type": "code",
   "execution_count": 1,
   "metadata": {},
   "outputs": [],
   "source": [
    "import os\n",
    "from io import BytesIO\n",
    "from gradient_generator import generate_gradient\n",
    "import ETL\n",
    "import pandas as pd\n",
    "from fpdf import FPDF\n",
    "import matplotlib.pyplot as plt\n",
    "import html2image\n",
    "from PyPDF2 import PdfMerger\n"
   ]
  },
  {
   "cell_type": "code",
   "execution_count": 2,
   "metadata": {},
   "outputs": [
    {
     "data": {
      "text/plain": [
       "'FFFFFF'"
      ]
     },
     "execution_count": 2,
     "metadata": {},
     "output_type": "execute_result"
    }
   ],
   "source": [
    "def hex_to_rgb(hex: str):\n",
    "    hex = hex.lstrip(\"#\")\n",
    "    hlen = len(hex)\n",
    "    return tuple(int(hex[i : i + hlen // 3], 16) for i in range(0, hlen, hlen // 3))\n",
    "\n",
    "\n",
    "def contrast(colors: list[str]):\n",
    "    mean = (0, 0, 0)\n",
    "    for color in colors:\n",
    "        r, g, b = hex_to_rgb(color)\n",
    "        mean = (mean[0] + r, mean[1] + g, mean[2] + b)\n",
    "    mean = (mean[0] / len(colors), mean[1] / len(colors), mean[2] / len(colors))\n",
    "    r, g, b = mean\n",
    "    return \"000000\" if (r * 0.299 + g * 0.587 + b * 0.114) > 186 else \"FFFFFF\"\n",
    "\n",
    "\n",
    "def get_logo_url(team_info: dict):\n",
    "    if team_info[\"Key\"] == \"ATL\":\n",
    "        return \"https://i0.wp.com/sportytell.com/wp-content/uploads/2020/11/NBA-atlanta-hawks-Logo.png?resize=300%2C300&ssl=1\"\n",
    "    elif team_info[\"Key\"] == \"TOR\":\n",
    "        return \"https://i1.wp.com/sportytell.com/wp-content/uploads/2020/11/NBA-toronto-raptors-Logo.png?resize=300%2C300&ssl=1\"\n",
    "    elif team_info[\"Key\"] == \"UTA\":\n",
    "        return \"https://i1.wp.com/sportytell.com/wp-content/uploads/2020/11/NBA-utah-jazz-Logo.png?resize=300%2C300&ssl=1\"\n",
    "    elif team_info[\"Key\"] == \"HOU\":\n",
    "        return \"https://i0.wp.com/sportytell.com/wp-content/uploads/2020/11/NBA-houston-rockets-Logo.png?resize=300%2C300&ssl=1\"\n",
    "    elif team_info[\"Key\"] == \"NO\":\n",
    "        return \"https://i2.wp.com/sportytell.com/wp-content/uploads/2020/11/NBA-new-orleans-pelicans-Logo.png?resize=300%2C300&ssl=1\"\n",
    "    return team_info[\"WikipediaLogoUrl\"]\n",
    "\n",
    "\n",
    "contrast([\"0064B1\", \"00285E\"])\n"
   ]
  },
  {
   "cell_type": "code",
   "execution_count": 3,
   "metadata": {},
   "outputs": [],
   "source": [
    "import time\n",
    "\n",
    "ini = time.time()"
   ]
  },
  {
   "attachments": {},
   "cell_type": "markdown",
   "metadata": {},
   "source": [
    "## Config and Main Info"
   ]
  },
  {
   "cell_type": "code",
   "execution_count": 4,
   "metadata": {},
   "outputs": [
    {
     "name": "stdout",
     "output_type": "stream",
     "text": [
      "team_info\n"
     ]
    }
   ],
   "source": [
    "config = ETL.get_config()\n",
    "api_key = config[\"api_key\"]\n",
    "season = config[\"season\"]\n",
    "input_team = config[\"team\"]\n",
    "\n",
    "team_info = ETL.get_main_team_info(api_key, input_team)\n",
    "print(\"team_info\")\n"
   ]
  },
  {
   "attachments": {},
   "cell_type": "markdown",
   "metadata": {},
   "source": [
    "## Front Page"
   ]
  },
  {
   "cell_type": "code",
   "execution_count": 5,
   "metadata": {},
   "outputs": [
    {
     "name": "stdout",
     "output_type": "stream",
     "text": [
      "more_info\n",
      "arena_urls\n"
     ]
    }
   ],
   "source": [
    "more_info = ETL.scrap_more_team_info(team_info[\"FullName\"])\n",
    "print(\"more_info\")\n",
    "team_info[\"MoreInfo\"] = more_info\n",
    "\n",
    "arena_urls = ETL.scrap_arena_images(more_info[\"arena_url\"])\n",
    "print(\"arena_urls\")\n",
    "team_info[\"ArenaUrls\"] = arena_urls\n"
   ]
  },
  {
   "cell_type": "code",
   "execution_count": 6,
   "metadata": {},
   "outputs": [
    {
     "name": "stdout",
     "output_type": "stream",
     "text": [
      "Gradient generated\n"
     ]
    },
    {
     "data": {
      "text/plain": [
       "'temp/front_page.pdf'"
      ]
     },
     "execution_count": 6,
     "metadata": {},
     "output_type": "execute_result"
    }
   ],
   "source": [
    "def front_page(team_info: dict) -> str:\n",
    "    \"\"\"\n",
    "    Generates front page of the report.\n",
    "\n",
    "    Returns: pdf path (str).\n",
    "    \"\"\"\n",
    "\n",
    "    if not os.path.exists(\"temp\"):\n",
    "        os.makedirs(\"temp\")\n",
    "\n",
    "    pdf = FPDF()\n",
    "\n",
    "    pdf.add_font(\"FreeSans\", \"\", \"fonts/FreeSans.ttf\")\n",
    "    pdf.add_font(\"FreeSans\", \"B\", \"fonts/FreeSansBold.ttf\")\n",
    "\n",
    "    font_family = \"FreeSans\"\n",
    "    title_font_size = 56\n",
    "    text_font_size = 16\n",
    "    text_color = hex_to_rgb(\n",
    "        contrast([team_info[\"PrimaryColor\"], team_info[\"SecondaryColor\"]])\n",
    "    )\n",
    "\n",
    "    pdf.add_page()\n",
    "\n",
    "    # Background\n",
    "    primary = hex_to_rgb(team_info[\"PrimaryColor\"])\n",
    "    secondary = hex_to_rgb(team_info[\"SecondaryColor\"])\n",
    "    background = generate_gradient(\n",
    "        round(pdf.w), round(pdf.h), [primary, secondary], seed=0\n",
    "    )\n",
    "    pdf.image(background, 0, 0, pdf.w, pdf.h)\n",
    "\n",
    "    # Title\n",
    "    pad_y = 20\n",
    "    pdf.set_font(font_family, \"B\", title_font_size)\n",
    "    pdf.set_text_color(*text_color)\n",
    "    pdf.ln(10)\n",
    "    pdf.cell(w=pdf.epw, h=pad_y, txt=team_info[\"City\"], align=\"C\")\n",
    "    pdf.ln()\n",
    "    pdf.cell(w=pdf.epw, h=pad_y, txt=team_info[\"Name\"], align=\"C\")\n",
    "    pdf.ln()\n",
    "\n",
    "    # Logo\n",
    "    logo_w = 65\n",
    "    pdf.ln(5)\n",
    "    pdf.image(\n",
    "        get_logo_url(team_info),\n",
    "        x=(pdf.w - logo_w) / 2,\n",
    "        y=pdf.y,\n",
    "        w=logo_w,\n",
    "        h=logo_w,\n",
    "    )\n",
    "    pdf.ln(logo_w)\n",
    "\n",
    "    # Arena image exterior\n",
    "    arena_w, arena_h = 70, 52\n",
    "    pdf.ln(15)\n",
    "    pdf.image(\n",
    "        team_info[\"ArenaUrls\"][0],\n",
    "        x=(pdf.w / 2 - arena_w) / 2,\n",
    "        y=pdf.y,\n",
    "        w=arena_w,\n",
    "        h=arena_h,\n",
    "    )\n",
    "    arena_1_y = pdf.y\n",
    "\n",
    "    # More info 1\n",
    "    margin_x = -5\n",
    "    cell_height = arena_h / 4\n",
    "    info1 = [\"City\", \"Arena\", \"Owner/s\", \"General Manager\"]\n",
    "    pdf.set_text_color(*text_color)\n",
    "    pdf.set_font(font_family, \"B\", text_font_size)\n",
    "    for info in info1:\n",
    "        pdf.set_xy(pdf.w / 2 + margin_x, pdf.y)\n",
    "        pdf.cell(\n",
    "            h=cell_height,\n",
    "            txt=info + \":\",\n",
    "        )\n",
    "        pdf.set_font(font_family, \"\", text_font_size)\n",
    "        pdf.multi_cell(\n",
    "            h=cell_height,\n",
    "            txt=team_info[\"MoreInfo\"][info],\n",
    "            w=pdf.epw - pdf.x + pdf.r_margin / 2,\n",
    "            max_line_height=cell_height / 2,\n",
    "        )\n",
    "        pdf.set_font(font_family, \"B\", text_font_size)\n",
    "\n",
    "    # Arena image interior\n",
    "    pdf.set_y(arena_1_y + arena_h)\n",
    "    pdf.ln(20)\n",
    "    margin_x = 5\n",
    "    pdf.image(\n",
    "        team_info[\"ArenaUrls\"][1],\n",
    "        x=pdf.w / 2 + margin_x,\n",
    "        y=pdf.y,\n",
    "        w=arena_w,\n",
    "        h=arena_h,\n",
    "    )\n",
    "\n",
    "    # More info 2\n",
    "    margin_x = 10\n",
    "    info2 = [\n",
    "        \"NBA titles\",\n",
    "        \"Conference titles\",\n",
    "        \"Division titles\",\n",
    "        \"Playoff appearences\",\n",
    "    ]\n",
    "    pdf.set_text_color(*text_color)\n",
    "    pdf.set_font(font_family, \"B\", text_font_size)\n",
    "    for info in info2:\n",
    "        pdf.set_xy((pdf.w / 2 - arena_w) / 2 + margin_x, pdf.y)\n",
    "        pdf.cell(\n",
    "            h=cell_height,\n",
    "            txt=info + \":\",\n",
    "        )\n",
    "        pdf.set_font(font_family, \"\", text_font_size)\n",
    "        pdf.cell(\n",
    "            h=cell_height,\n",
    "            txt=team_info[\"MoreInfo\"][info],\n",
    "        )\n",
    "        pdf.ln()\n",
    "        pdf.set_font(font_family, \"B\", text_font_size)\n",
    "\n",
    "    pdf_path = \"temp/front_page.pdf\"\n",
    "\n",
    "    pdf.output(pdf_path)\n",
    "\n",
    "    return pdf_path\n",
    "\n",
    "\n",
    "front_page(team_info)\n"
   ]
  },
  {
   "attachments": {},
   "cell_type": "markdown",
   "metadata": {},
   "source": [
    "## Individual Info"
   ]
  },
  {
   "cell_type": "code",
   "execution_count": 7,
   "metadata": {},
   "outputs": [
    {
     "name": "stdout",
     "output_type": "stream",
     "text": [
      "players_info\n"
     ]
    }
   ],
   "source": [
    "players_info_json = ETL.get_players_info(team_info[\"Key\"], api_key)\n",
    "players_stats_json = ETL.get_players_stats(season, team_info[\"Key\"], api_key)\n",
    "\n",
    "ETL.get_bytesio_players_images(players_info_json, players_stats_json)\n",
    "\n",
    "players_info_df = ETL.transform_players_info(players_info_json)\n",
    "print(\"players_info\")\n"
   ]
  },
  {
   "cell_type": "code",
   "execution_count": 8,
   "metadata": {},
   "outputs": [
    {
     "name": "stdout",
     "output_type": "stream",
     "text": [
      "Gradient generated\n"
     ]
    },
    {
     "data": {
      "text/plain": [
       "'temp/individual_info.pdf'"
      ]
     },
     "execution_count": 8,
     "metadata": {},
     "output_type": "execute_result"
    }
   ],
   "source": [
    "def individual_info(\n",
    "    team_info: dict,\n",
    "    player_info_df: pd.DataFrame,\n",
    ") -> str:\n",
    "    \"\"\"\n",
    "    Generates individual stats page of the report.\n",
    "\n",
    "    Returns: path to the generated pdf file (str).\n",
    "    \"\"\"\n",
    "\n",
    "    if not os.path.exists(\"temp\"):\n",
    "        os.mkdir(\"temp\")\n",
    "\n",
    "    pdf = FPDF()\n",
    "\n",
    "    pdf.add_font(\"FreeSans\", \"\", \"fonts/FreeSans.ttf\")\n",
    "    pdf.add_font(\"FreeSans\", \"B\", \"fonts/FreeSansBold.ttf\")\n",
    "\n",
    "    font_family = \"FreeSans\"\n",
    "    title_font_size = 36\n",
    "    text_font_size = 10\n",
    "    text_color = hex_to_rgb(\n",
    "        contrast([team_info[\"PrimaryColor\"], team_info[\"SecondaryColor\"]])\n",
    "    )\n",
    "\n",
    "    pdf.add_page()\n",
    "\n",
    "    # Background\n",
    "    primary = hex_to_rgb(team_info[\"PrimaryColor\"])\n",
    "    secondary = hex_to_rgb(team_info[\"SecondaryColor\"])\n",
    "    background = generate_gradient(\n",
    "        round(pdf.w), round(pdf.h), [primary, secondary], seed=4\n",
    "    )\n",
    "\n",
    "    pdf.image(background, 0, 0, pdf.w, pdf.h)\n",
    "\n",
    "    # Title\n",
    "    pad_y = 8\n",
    "    pdf.set_font(font_family, \"B\", title_font_size)\n",
    "    pdf.set_text_color(*text_color)\n",
    "    pdf.cell(w=pdf.epw, h=pad_y, txt=\"Players Info\", align=\"C\")\n",
    "    pdf.ln()\n",
    "\n",
    "    # Table\n",
    "    pdf.ln(10)\n",
    "    row_height = (pdf.eph - pad_y - 10) // (player_info_df.shape[0] + 1)\n",
    "    image_width = row_height * 1.2\n",
    "\n",
    "    # Auto column width\n",
    "    col_widths = []\n",
    "\n",
    "    for col in player_info_df.columns:\n",
    "        if col != \"PhotoBytesIO\":\n",
    "            col_widths.append(\n",
    "                max(max(len(str(x)), len(col) + 4) for x in player_info_df[col])\n",
    "            )\n",
    "    col_widths = [(pdf.epw - image_width) * w / sum(col_widths) for w in col_widths]\n",
    "    col_widths = [image_width] + col_widths\n",
    "\n",
    "    # HEADER\n",
    "    pdf.set_font(font_family, \"B\", text_font_size)\n",
    "    th = pdf.font_size\n",
    "    for i, col in enumerate(player_info_df.columns):\n",
    "        text = col if col != \"PhotoBytesIO\" else \"\"\n",
    "        pdf.cell(w=col_widths[i], h=row_height, txt=text, align=\"C\", border=1)\n",
    "    pdf.ln(row_height)\n",
    "\n",
    "    # BODY\n",
    "    pdf.set_font(font_family, \"\", text_font_size)\n",
    "    th = pdf.font_size\n",
    "    for _, row in player_info_df.iterrows():\n",
    "        x, y = pdf.x, pdf.y\n",
    "        pad = 3\n",
    "        pdf.image(\n",
    "            name=row[\"PhotoBytesIO\"],\n",
    "            w=col_widths[0] - 2 * pad,\n",
    "            h=row_height - pad // 2,\n",
    "            x=pdf.x + pad,\n",
    "            y=pdf.y + pad // 4,\n",
    "        )\n",
    "\n",
    "        pdf.rect(pdf.x, pdf.y, col_widths[0], row_height, \"D\")\n",
    "        pdf.x += col_widths[0]\n",
    "\n",
    "        for i, val in enumerate(row):\n",
    "            if i > 0:\n",
    "                text = str(val)\n",
    "                pdf.cell(w=col_widths[i], h=row_height, txt=text, align=\"C\", border=1)\n",
    "        pdf.ln(row_height)\n",
    "\n",
    "    pdf_path = \"temp/individual_info.pdf\"\n",
    "\n",
    "    pdf.output(pdf_path)\n",
    "    return pdf_path\n",
    "\n",
    "\n",
    "individual_info(team_info, players_info_df)\n"
   ]
  },
  {
   "attachments": {},
   "cell_type": "markdown",
   "metadata": {},
   "source": [
    "## Individual Stats"
   ]
  },
  {
   "cell_type": "code",
   "execution_count": 9,
   "metadata": {},
   "outputs": [
    {
     "name": "stdout",
     "output_type": "stream",
     "text": [
      "players_stats\n"
     ]
    }
   ],
   "source": [
    "players_stats_df = ETL.transform_players_stats(players_stats_json)\n",
    "print(\"players_stats\")\n"
   ]
  },
  {
   "cell_type": "code",
   "execution_count": 10,
   "metadata": {},
   "outputs": [
    {
     "name": "stdout",
     "output_type": "stream",
     "text": [
      "Gradient generated\n"
     ]
    },
    {
     "data": {
      "text/plain": [
       "'temp/individual_stats.pdf'"
      ]
     },
     "execution_count": 10,
     "metadata": {},
     "output_type": "execute_result"
    }
   ],
   "source": [
    "def individual_stats(\n",
    "    team_info: dict,\n",
    "    player_stats_df: pd.DataFrame,\n",
    ") -> str:\n",
    "    \"\"\"\n",
    "    Generates individual stats page of the report.\n",
    "\n",
    "    Returns: path to the generated pdf file (str).\n",
    "    \"\"\"\n",
    "\n",
    "    if not os.path.exists(\"temp\"):\n",
    "        os.mkdir(\"temp\")\n",
    "\n",
    "    pdf = FPDF()\n",
    "\n",
    "    pdf.add_font(\"FreeSans\", \"\", \"fonts/FreeSans.ttf\")\n",
    "    pdf.add_font(\"FreeSans\", \"B\", \"fonts/FreeSansBold.ttf\")\n",
    "\n",
    "    font_family = \"FreeSans\"\n",
    "    title_font_size = 36\n",
    "    text_font_size = 10\n",
    "    text_color = hex_to_rgb(\n",
    "        contrast([team_info[\"PrimaryColor\"], team_info[\"SecondaryColor\"]])\n",
    "    )\n",
    "\n",
    "    pdf.add_page()\n",
    "\n",
    "    # Background\n",
    "    primary = hex_to_rgb(team_info[\"PrimaryColor\"])\n",
    "    secondary = hex_to_rgb(team_info[\"SecondaryColor\"])\n",
    "    background = generate_gradient(\n",
    "        round(pdf.w), round(pdf.h), [primary, secondary], seed=6\n",
    "    )\n",
    "\n",
    "    pdf.image(background, 0, 0, pdf.w, pdf.h)\n",
    "\n",
    "    # Title\n",
    "    pad_y = 8\n",
    "    pdf.set_font(font_family, \"B\", title_font_size)\n",
    "    pdf.set_text_color(*text_color)\n",
    "    pdf.cell(w=pdf.epw, h=pad_y, txt=\"Players Stats\", align=\"C\")\n",
    "    pdf.ln()\n",
    "\n",
    "    # Table\n",
    "    pdf.ln(10)\n",
    "    row_height = (pdf.eph - pad_y - 10) // (player_stats_df.shape[0] + 1)\n",
    "    image_width = row_height * 1.2\n",
    "\n",
    "    # Auto column width\n",
    "    col_widths = []\n",
    "\n",
    "    for col in player_stats_df.columns:\n",
    "        if col != \"PhotoBytesIO\":\n",
    "            col_widths.append(\n",
    "                max(max(len(str(x)), len(col) + 4) for x in player_stats_df[col])\n",
    "            )\n",
    "    col_widths = [(pdf.epw - image_width) * w / sum(col_widths) for w in col_widths]\n",
    "    col_widths = [image_width] + col_widths\n",
    "\n",
    "    # HEADER\n",
    "    pdf.set_font(font_family, \"B\", text_font_size)\n",
    "    th = pdf.font_size\n",
    "    for i, col in enumerate(player_stats_df.columns):\n",
    "        text = col if col != \"PhotoBytesIO\" else \"\"\n",
    "        pdf.cell(w=col_widths[i], h=row_height, txt=text, align=\"C\", border=1)\n",
    "    pdf.ln(row_height)\n",
    "\n",
    "    # BODY\n",
    "    pdf.set_font(font_family, \"\", text_font_size)\n",
    "    th = pdf.font_size\n",
    "    for _, row in player_stats_df.iterrows():\n",
    "        x, y = pdf.x, pdf.y\n",
    "        pad = 3\n",
    "        pdf.image(\n",
    "            name=row[\"PhotoBytesIO\"],\n",
    "            w=col_widths[0] - 2 * pad,\n",
    "            h=row_height - pad // 2,\n",
    "            x=pdf.x + pad,\n",
    "            y=pdf.y + pad // 4,\n",
    "        )\n",
    "\n",
    "        pdf.rect(pdf.x, pdf.y, col_widths[0], row_height, \"D\")\n",
    "        pdf.x += col_widths[0]\n",
    "\n",
    "        for i, val in enumerate(row):\n",
    "            if i > 0:\n",
    "                text = (\n",
    "                    str(val)\n",
    "                    if i != 1\n",
    "                    else val.split(\" \")[0][0] + \". \" + val.split(\" \")[1]\n",
    "                )\n",
    "                pdf.cell(w=col_widths[i], h=row_height, txt=text, align=\"C\", border=1)\n",
    "        pdf.ln(row_height)\n",
    "\n",
    "    pdf_path = \"temp/individual_stats.pdf\"\n",
    "\n",
    "    pdf.output(pdf_path)\n",
    "\n",
    "    return pdf_path\n",
    "\n",
    "\n",
    "individual_stats(team_info, players_stats_df)\n"
   ]
  },
  {
   "attachments": {},
   "cell_type": "markdown",
   "metadata": {},
   "source": [
    "## Team Stats"
   ]
  },
  {
   "cell_type": "code",
   "execution_count": 11,
   "metadata": {},
   "outputs": [
    {
     "name": "stdout",
     "output_type": "stream",
     "text": [
      "team_stats\n",
      "team_record\n"
     ]
    }
   ],
   "source": [
    "team_stats = ETL.get_team_stats(season, team_info[\"Key\"], api_key)\n",
    "print(\"team_stats\")\n",
    "team_record = ETL.scrap_team_record(team_info[\"FullName\"])\n",
    "print(\"team_record\")\n"
   ]
  },
  {
   "cell_type": "code",
   "execution_count": 12,
   "metadata": {},
   "outputs": [
    {
     "name": "stdout",
     "output_type": "stream",
     "text": [
      "Gradient generated\n"
     ]
    },
    {
     "data": {
      "image/png": "[encoded data removed]",
      "text/plain": [
       "<Figure size 1500x600 with 1 Axes>"
      ]
     },
     "metadata": {},
     "output_type": "display_data"
    }
   ],
   "source": [
    "def team_stats_page(\n",
    "    team_info: dict,\n",
    "    team_stats: dict,\n",
    "    team_record: dict,\n",
    ") -> str:\n",
    "    \"\"\"\n",
    "    Generates team stats page of the report.\n",
    "\n",
    "    Returns: path to the PDF file (str)\n",
    "    \"\"\"\n",
    "\n",
    "    if not os.path.exists(\"temp\"):\n",
    "        os.mkdir(\"temp\")\n",
    "\n",
    "    pdf = FPDF()\n",
    "\n",
    "    pdf.add_font(\"FreeSans\", \"\", \"fonts/FreeSans.ttf\")\n",
    "    pdf.add_font(\"FreeSans\", \"B\", \"fonts/FreeSansBold.ttf\")\n",
    "\n",
    "    font_family = \"FreeSans\"\n",
    "    title_font_size = 36\n",
    "    text_font_size = 12\n",
    "    text_color = hex_to_rgb(\n",
    "        contrast([team_info[\"PrimaryColor\"], team_info[\"SecondaryColor\"]])\n",
    "    )\n",
    "\n",
    "    pdf.add_page()\n",
    "\n",
    "    # Background\n",
    "    primary = hex_to_rgb(team_info[\"PrimaryColor\"])\n",
    "    secondary = hex_to_rgb(team_info[\"SecondaryColor\"])\n",
    "    background = generate_gradient(\n",
    "        round(pdf.w), round(pdf.h), [primary, secondary], seed=8\n",
    "    )\n",
    "\n",
    "    pdf.image(background, 0, 0, pdf.w, pdf.h)\n",
    "\n",
    "    # Title\n",
    "    pad_y = 8\n",
    "    pdf.set_font(font_family, \"B\", title_font_size)\n",
    "    pdf.set_text_color(*text_color)\n",
    "    pdf.cell(w=pdf.epw, h=pad_y, txt=\"Team Stats\", align=\"C\")\n",
    "    pdf.ln()\n",
    "\n",
    "    # Table (Stat: Value)\n",
    "    pdf.ln(10)\n",
    "    title_table_h = pdf.eph * 0.65\n",
    "    row_height = (title_table_h - pad_y - 10) // len(team_stats)\n",
    "    col_widths = [pdf.epw // 2, pdf.epw // 2]\n",
    "\n",
    "    pdf.set_font(font_family, \"\", text_font_size)\n",
    "    for stat, val in team_stats.items():\n",
    "        for i, text in enumerate([stat, val]):\n",
    "            pdf.cell(w=col_widths[i], h=row_height, txt=str(text), align=\"C\", border=1)\n",
    "        pdf.ln(row_height)\n",
    "\n",
    "    # Record TimeSeries Plot\n",
    "\n",
    "    team_record.sort_values(by=\"Season\", inplace=True)\n",
    "\n",
    "    fig, ax = plt.subplots(figsize=(15, 6))\n",
    "    regular = team_record[team_record[\"RegularW-L%\"] != 0][[\"Season\", \"RegularW-L%\"]]\n",
    "    ax.plot(regular[\"Season\"], regular[\"RegularW-L%\"], label=\"Regular W/L %\")\n",
    "    playoffs = team_record[team_record[\"PlayoffsW-L%\"] != 0][[\"Season\", \"PlayoffsW-L%\"]]\n",
    "    ax.plot(playoffs[\"Season\"], playoffs[\"PlayoffsW-L%\"], label=\"Playoffs W/L %\")\n",
    "\n",
    "    ax.set_title(\"Team Record\", {\"fontsize\": 24})\n",
    "    plt.xticks(rotation=45, fontsize=14)\n",
    "    plt.yticks(fontsize=14)\n",
    "    ax.legend(fontsize=16)\n",
    "\n",
    "    fig.tight_layout()\n",
    "\n",
    "    # Save plot to BytesIO\n",
    "    pdf.ln(10)\n",
    "    y_margin = 10\n",
    "    buf = BytesIO()\n",
    "    fig.savefig(buf, format=\"png\")\n",
    "    buf.seek(0)\n",
    "    pdf.image(\n",
    "        buf,\n",
    "        x=pdf.x,\n",
    "        y=pdf.y + y_margin,\n",
    "        w=pdf.epw,\n",
    "        h=pdf.eph - title_table_h - 2 * y_margin,\n",
    "    )\n",
    "    buf.close()\n",
    "\n",
    "    pdf_path = \"temp/team_stats.pdf\"\n",
    "\n",
    "    pdf.output(pdf_path)\n",
    "\n",
    "    return pdf_path\n",
    "\n",
    "\n",
    "team_stats_pdf = team_stats_page(team_info, team_stats, team_record)\n"
   ]
  },
  {
   "attachments": {},
   "cell_type": "markdown",
   "metadata": {},
   "source": [
    "## Predictions"
   ]
  },
  {
   "cell_type": "code",
   "execution_count": 13,
   "metadata": {},
   "outputs": [
    {
     "name": "stdout",
     "output_type": "stream",
     "text": [
      "https://www.dratings.com/predictor/nba-basketball-predictions/upcoming/0\n",
      "https://www.dratings.com/predictor/nba-basketball-predictions/upcoming/1\n",
      "https://www.dratings.com/predictor/nba-basketball-predictions/upcoming/2\n",
      "https://www.dratings.com/predictor/nba-basketball-predictions/upcoming/3\n",
      "Game found in 3 days\n",
      "Atlanta at Golden State\n",
      "03:10 AM • Jan 3, 2023\n"
     ]
    }
   ],
   "source": [
    "title, date, html_string, css_string = ETL.scrap_bettings(team_info[\"FullName\"])\n",
    "print(title)\n",
    "print(date)\n"
   ]
  },
  {
   "cell_type": "code",
   "execution_count": 14,
   "metadata": {},
   "outputs": [
    {
     "name": "stdout",
     "output_type": "stream",
     "text": [
      "Gradient generated\n"
     ]
    }
   ],
   "source": [
    "def prediction(title, date, html_string, css_string):\n",
    "    \"\"\"\n",
    "    Generates prediction page of the report.\n",
    "\n",
    "    Returns: path to the PDF file (str)\n",
    "    \"\"\"\n",
    "\n",
    "    if not os.path.exists(\"temp\"):\n",
    "        os.mkdir(\"temp\")\n",
    "\n",
    "    pdf = FPDF()\n",
    "\n",
    "    pdf.add_font(\"FreeSans\", \"\", \"fonts/FreeSans.ttf\")\n",
    "    pdf.add_font(\"FreeSans\", \"B\", \"fonts/FreeSansBold.ttf\")\n",
    "\n",
    "    font_family = \"FreeSans\"\n",
    "    title_font_size = 36\n",
    "    text_font_size = 12\n",
    "    text_color = hex_to_rgb(\n",
    "        contrast([team_info[\"PrimaryColor\"], team_info[\"SecondaryColor\"]])\n",
    "    )\n",
    "\n",
    "    pdf.add_page()\n",
    "\n",
    "    # Background\n",
    "    primary = hex_to_rgb(team_info[\"PrimaryColor\"])\n",
    "    secondary = hex_to_rgb(team_info[\"SecondaryColor\"])\n",
    "    background = generate_gradient(\n",
    "        round(pdf.w), round(pdf.h), [primary, secondary], seed=5\n",
    "    )\n",
    "\n",
    "    pdf.image(background, 0, 0, pdf.w, pdf.h)\n",
    "\n",
    "    # Title\n",
    "    pad_y = 20\n",
    "    pdf.set_font(font_family, \"B\", title_font_size)\n",
    "    pdf.set_text_color(*text_color)\n",
    "    pdf.cell(w=pdf.epw, h=pad_y, txt=title, align=\"C\")\n",
    "    pdf.ln()\n",
    "\n",
    "    # Date\n",
    "    pdf.ln(3)\n",
    "    pad_y = 10\n",
    "    pdf.set_font(font_family, \"B\", 24)\n",
    "    pdf.set_text_color(*text_color)\n",
    "    pdf.cell(w=pdf.epw, h=pad_y, txt=date, align=\"C\")\n",
    "    pdf.ln()\n",
    "\n",
    "    # Prediction\n",
    "    hti = html2image.Html2Image(size=(1000, 250), output_path=\"temp\")\n",
    "    hti.screenshot(html_str=html_string, css_str=css_string, save_as=\"breakdown.png\")\n",
    "    pdf.ln(10)\n",
    "    pdf.image(\n",
    "        \"temp/breakdown.png\",\n",
    "        x=pdf.x,\n",
    "        y=pdf.y,\n",
    "        w=pdf.epw,\n",
    "        h=pdf.epw // 4 + 10,\n",
    "    )\n",
    "\n",
    "    pdf_path = \"temp/prediction.pdf\"\n",
    "\n",
    "    pdf.output(pdf_path)\n",
    "\n",
    "    return pdf_path\n",
    "\n",
    "\n",
    "prediction_pdf = prediction(title, date, html_string, css_string)\n"
   ]
  },
  {
   "attachments": {},
   "cell_type": "markdown",
   "metadata": {},
   "source": [
    "## Merging"
   ]
  },
  {
   "cell_type": "code",
   "execution_count": 15,
   "metadata": {},
   "outputs": [],
   "source": [
    "# Merge PDFs\n",
    "def merge_pdfs():\n",
    "    \"\"\"\n",
    "    Merges PDFs into one.\n",
    "\n",
    "    Returns: path to the merged PDF (str)\n",
    "    \"\"\"\n",
    "\n",
    "    pdfs = [\n",
    "        \"front_page.pdf\",\n",
    "        \"individual_info.pdf\",\n",
    "        \"individual_stats.pdf\",\n",
    "        \"team_stats.pdf\",\n",
    "        \"prediction.pdf\",\n",
    "    ]\n",
    "\n",
    "    merger = PdfMerger()\n",
    "\n",
    "    for pdf in pdfs:\n",
    "        merger.append(\"temp/\" + pdf)\n",
    "\n",
    "    if not os.path.exists(\"out\"):\n",
    "        os.mkdir(\"out\")\n",
    "\n",
    "    merger.write(\"out/report.pdf\")\n",
    "    merger.close()\n",
    "\n",
    "    return \"out/report.pdf\"\n",
    "\n",
    "\n",
    "merge_pdfs()\n"
   ]
  },
  {
   "cell_type": "code",
   "execution_count": 16,
   "metadata": {},
   "outputs": [
    {
     "name": "stdout",
     "output_type": "stream",
     "text": [
      "Done in 22.36 seconds\n"
     ]
    }
   ],
   "source": [
    "print(\"Done in {:.2f} seconds\".format(time.time() - ini))"
   ]
  }
 ],
 "metadata": {
  "kernelspec": {
   "display_name": "Python 3",
   "language": "python",
   "name": "python3"
  },
  "language_info": {
   "codemirror_mode": {
    "name": "ipython",
    "version": 3
   },
   "file_extension": ".py",
   "mimetype": "text/x-python",
   "name": "python",
   "nbconvert_exporter": "python",
   "pygments_lexer": "ipython3",
   "version": "3.10.6 (tags/v3.10.6:9c7b4bd, Aug  1 2022, 21:53:49) [MSC v.1932 64 bit (AMD64)]"
  },
  "orig_nbformat": 4,
  "vscode": {
   "interpreter": {
    "hash": "841fed4330da2c0f186905de144ecf4da6db16f0ca1e7f45a0769cc74be68adf"
   }
  }
 },
 "nbformat": 4,
 "nbformat_minor": 2
}
